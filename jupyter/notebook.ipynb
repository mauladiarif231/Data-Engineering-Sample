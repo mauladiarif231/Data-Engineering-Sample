{
 "cells": [
  {
   "cell_type": "code",
   "execution_count": 1,
   "metadata": {},
   "outputs": [],
   "source": [
    "# This is the notebook you can use to write your solution.\n",
    "# Once you run the Docker Compose you should be able to access the notebook at http://localhost:8888/\n",
    "# and go to the `work` folder to see this notebook.\n",
    "\n",
    "# You can use the following libraries:\n",
    "# - psycopg\n",
    "# - boto3\n",
    "# - pandas\n",
    "# If you need to add more libraries, you can do it in the jupyter.Dockerfile file in the root directory."
   ]
  }
 ],
 "metadata": {
  "kernelspec": {
   "display_name": "Python 3 (ipykernel)",
   "language": "python",
   "name": "python3"
  },
  "language_info": {
   "codemirror_mode": {
    "name": "ipython",
    "version": 3
   },
   "file_extension": ".py",
   "mimetype": "text/x-python",
   "name": "python",
   "nbconvert_exporter": "python",
   "pygments_lexer": "ipython3",
   "version": "3.11.6"
  }
 },
 "nbformat": 4,
 "nbformat_minor": 4
}
